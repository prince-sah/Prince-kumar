{
 "cells": [
  {
   "cell_type": "code",
   "execution_count": null,
   "metadata": {},
   "outputs": [],
   "source": [
    "# Question 1: Accept two integer numbers from a user and return their product and  if the product is greater than 1000,\n",
    "# then return their sum\n",
    "\n",
    "\n",
    "\n",
    "num1 = int(input(\"Enter your 1st number\"))\n",
    "num2 = int (input(\"Enter your 2nd number\"))\n",
    "\n",
    "multi = num1* num2\n",
    "add = num1 + num2\n",
    "if multi <= 1000:\n",
    "    print(f\"your {num1} and {num2} product is {multi}\")\n",
    "else:\n",
    "     print(f\"your {num1} and {num2} sum is {add}\")\n",
    "\n",
    "\n",
    "    \n",
    "\n",
    "def multiplication_or_sum(num1, num2):\n",
    "    product = num1 *num2\n",
    "    if(product <= 1000):\n",
    "        return product\n",
    "    else:\n",
    "        return num1 +num2\n",
    "\n",
    "number1 = int(input(\"Enter first number \"))\n",
    "number2 = int(input(\"Enter second number\"))\n",
    "\n",
    "result = multiplication_or_sum(number1, number2)\n",
    "print(\"The result is\", result)\n",
    "\n",
    "\n"
   ]
  },
  {
   "cell_type": "code",
   "execution_count": null,
   "metadata": {},
   "outputs": [],
   "source": [
    "# Question 2: Given a range of first 10 numbers, Iterate from start number to the end number and print the sum of the current number and previous number\n",
    "\n",
    "\n",
    "def sumNum(num):\n",
    "    previousNum = 0\n",
    "    for i in range(num):\n",
    "        sum = previousNum + i\n",
    "        print(\"Current Number\", i, \"Previous Number \", previousNum,\" Sum: \", sum)\n",
    "        previousNum = i\n",
    "\n",
    "print(\"Printing current and previous number sum in a given range(10)\")\n",
    "sumNum(10)\n",
    "    \n",
    "\n"
   ]
  },
  {
   "cell_type": "code",
   "execution_count": null,
   "metadata": {},
   "outputs": [],
   "source": [
    "\"\"\"Question 2: Given a range of first 10 numbers, \n",
    "Iterate from start number to the end number and print the sum of the current number and previous number\"\"\"\n",
    "\n",
    "\n",
    "\n",
    "def num1(a):\n",
    "    p =0\n",
    "    for i in range(a):\n",
    "        sum = p + i\n",
    "        print(f\"Current number is {p} and Previous number is {i} sum : {sum}\")\n",
    "        \n",
    "        p = i\n",
    "user = input ()\n",
    "        \n",
    "num1(user)\n",
    "\n"
   ]
  },
  {
   "cell_type": "code",
   "execution_count": null,
   "metadata": {},
   "outputs": [],
   "source": [
    "\"\"\"Question 3: Accept string from a user and display only those characters which are present at an even index number.\n",
    " For example str = \"pynative\" so you should display ‘p’, ‘n’, ‘t’, ‘v’.\"\"\"   \n",
    "    \n",
    "list1 = [\"p\", 'n', 't', 'v']    \n",
    "\n",
    "user = input(\"Enter a string: \")\n",
    "def fun()\n",
    "if list1== user:\n",
    "    print('Your string is the', user)\n",
    "else:\n",
    "    print(user,\"This sting is not match from the list\")\n",
    "\n",
    "    "
   ]
  },
  {
   "cell_type": "code",
   "execution_count": null,
   "metadata": {},
   "outputs": [],
   "source": [
    "\"\"\"Question 4: Given a string and an integer number n,\n",
    "               remove characters from a string starting from zero up to n and return a new string\"\"\"\n",
    "\n",
    "# user1 = str(input(\"Enter a string: \"))\n",
    "# no1 = int(input(\"Enter no how much u want to remove\"))\n",
    "\n",
    "def remove(str, no):\n",
    "    return str[ no(:3) ]\n",
    "\n",
    "\n",
    "\n",
    "print(\"Removing n number of chars\")\n",
    "remove(\"prince\", 2)"
   ]
  },
  {
   "cell_type": "code",
   "execution_count": 19,
   "metadata": {},
   "outputs": [
    {
     "name": "stdout",
     "output_type": "stream",
     "text": [
      "Given list is  [1, 3, 5, 7, 89, 5]\n",
      "result is False\n"
     ]
    }
   ],
   "source": [
    "\"\"\"Question 5: Given a list of numbers, return True if first and last number of a list is same\"\"\"\n",
    "\n",
    "list1 = [1,3,5,7,89,5]\n",
    "def num(list1):\n",
    "    print(\"Given list is \", list1)\n",
    "    first_no = list1[0]\n",
    "    last_no = list1[-1]\n",
    "    if first_no == last_no:\n",
    "        return True\n",
    "    else:\n",
    "        return False\n",
    "\n",
    "print(\"result is\",num(list1))"
   ]
  },
  {
   "cell_type": "code",
   "execution_count": null,
   "metadata": {},
   "outputs": [],
   "source": [
    "\"\"\"Question 6: Given a list of numbers, Iterate it and print only those numbers which are divisible of 5\"\"\"\n",
    "\n",
    "\n",
    "list1 = [87,38,55, 50,10, 23, 15, 20, 89]\n",
    "\n",
    "def num(list1):\n",
    "    print(\"Given list is \",list1)\n",
    "    print(\"Divisible of 5 in a list:-\")\n",
    "    for num in list1:\n",
    "        if (num%5 == 0):\n",
    "            print(num)\n",
    "num(list1)\n",
    "\n",
    "\n",
    "\n",
    "\n",
    "\n"
   ]
  },
  {
   "cell_type": "code",
   "execution_count": null,
   "metadata": {},
   "outputs": [],
   "source": [
    "\"\"\"Question 7: Return the total count of string “Raju” appears in the given string\"\"\"\n",
    "\n",
    "def count_state(statement):\n",
    "    print(f\"Given string is '{statement}'\")\n",
    "    count = 0\n",
    "    for i in range(len(statement)-1):\n",
    "        count +=statement[i:i+6] == \"Prince\"\n",
    "        return count\n",
    "    \n",
    "    \n",
    "count_state(\"Prince kumar and now I'm study in pujab. Prince from bihar\") \n",
    "\n"
   ]
  },
  {
   "cell_type": "code",
   "execution_count": null,
   "metadata": {},
   "outputs": [],
   "source": [
    "\"\"\"Question 8: Print the following pattern\n",
    "1 \n",
    "2 2 \n",
    "3 3 3 \n",
    "4 4 4 4 \n",
    "5 5 5 5 5\"\"\"\n",
    "\n",
    "for i in range(6):\n",
    "#     print(i)\n",
    "    for num in range(i):\n",
    "        print(i, end= \" \")\n",
    "#     print(num,\"\\n\")\n",
    "    print(\"\\n\")"
   ]
  },
  {
   "cell_type": "code",
   "execution_count": 25,
   "metadata": {},
   "outputs": [
    {
     "name": "stdout",
     "output_type": "stream",
     "text": [
      "This list is reverse and orginal are same [1, 1, 3, 2, 1]\n",
      "Result is False\n"
     ]
    }
   ],
   "source": [
    "\"\"\"Question 9: Reverse a given number and return true if it is the same as the original number\"\"\"\n",
    "list1 = [1,1,3,2,1]\n",
    "def num(list1):\n",
    "    if list1 == list1[::-1]:\n",
    "        return True \n",
    "    else:\n",
    "        return False\n",
    "    \n",
    "num(list1)\n",
    "\n",
    "print(\"This list is reverse and orginal are same\",list1)\n",
    "print(\"Result is\",num(list1))"
   ]
  },
  {
   "cell_type": "code",
   "execution_count": 29,
   "metadata": {},
   "outputs": [
    {
     "name": "stdout",
     "output_type": "stream",
     "text": [
      "First List  [4, 5, 24215, 2114]\n",
      "Second List  [41, 54, 435132165, 4]\n",
      "result List is [5, 24215, 54, 4]\n"
     ]
    }
   ],
   "source": [
    "\"\"\"Question 10: Given a two list of numbers create a new list such that new list should contain only odd numbers \n",
    "    from the first list and even numbers from the second list\"\"\"\n",
    "\n",
    "\n",
    "def mergelist(list1, list2):\n",
    "    print(\"First List \", list1)\n",
    "    print(\"Second List \", list2)\n",
    "    list3 = []\n",
    "    for num in list1:\n",
    "        if num % 2 != 0:\n",
    "            list3.append(num)\n",
    "    for num in list2:\n",
    "        if num % 2 == 0:\n",
    "            list3.append(num)\n",
    "\n",
    "    return list3\n",
    "\n",
    "list1 = [4,5,24215,2114]\n",
    "list2 = [41,54,435132165,4]\n",
    "\n",
    "print(\"result List is\",mergelist(list1, list2))\n",
    "\n"
   ]
  },
  {
   "cell_type": "code",
   "execution_count": 3,
   "metadata": {},
   "outputs": [
    {
     "data": {
      "text/plain": [
       "1"
      ]
     },
     "execution_count": 3,
     "metadata": {},
     "output_type": "execute_result"
    }
   ],
   "source": [
    "5%2"
   ]
  },
  {
   "cell_type": "code",
   "execution_count": 22,
   "metadata": {},
   "outputs": [
    {
     "name": "stdout",
     "output_type": "stream",
     "text": [
      "First List  [10, 20, 23, 11, 17]\n",
      "Second List  [13, 43, 24, 36, 12]\n",
      "result List is [23, 11, 17, 24, 36, 12]\n"
     ]
    }
   ],
   "source": [
    "def mergeList(listOne, listTwo):\n",
    "    print(\"First List \", listOne)\n",
    "    print(\"Second List \", listTwo)\n",
    "    thirdList = []\n",
    "    \n",
    "    for num in listOne:\n",
    "        if (num % 2 != 0):\n",
    "            thirdList.append(num)\n",
    "    for num in listTwo:\n",
    "        if (num % 2 == 0):\n",
    "            thirdList.append(num)\n",
    "    return thirdList\n",
    "\n",
    "listOne = [10, 20, 23, 11, 17]\n",
    "listTwo = [13, 43, 24, 36, 12]\n",
    "\n",
    "print(\"result List is\", mergeList(listOne, listTwo))"
   ]
  }
 ],
 "metadata": {
  "kernelspec": {
   "display_name": "Python 3",
   "language": "python",
   "name": "python3"
  },
  "language_info": {
   "codemirror_mode": {
    "name": "ipython",
    "version": 3
   },
   "file_extension": ".py",
   "mimetype": "text/x-python",
   "name": "python",
   "nbconvert_exporter": "python",
   "pygments_lexer": "ipython3",
   "version": "3.7.4"
  }
 },
 "nbformat": 4,
 "nbformat_minor": 2
}
